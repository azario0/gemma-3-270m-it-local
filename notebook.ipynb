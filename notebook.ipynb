{
 "cells": [
  {
   "cell_type": "code",
   "execution_count": null,
   "id": "4dd52dfb",
   "metadata": {},
   "outputs": [
    {
     "name": "stderr",
     "output_type": "stream",
     "text": [
      "/home/azar/.local/lib/python3.12/site-packages/tqdm/auto.py:21: TqdmWarning: IProgress not found. Please update jupyter and ipywidgets. See https://ipywidgets.readthedocs.io/en/stable/user_install.html\n",
      "  from .autonotebook import tqdm as notebook_tqdm\n"
     ]
    }
   ],
   "source": [
    "from transformers import AutoTokenizer, AutoModelForCausalLM, TextIteratorStreamer\n",
    "import threading"
   ]
  },
  {
   "cell_type": "code",
   "execution_count": 2,
   "id": "e3c7f693",
   "metadata": {},
   "outputs": [
    {
     "name": "stdout",
     "output_type": "stream",
     "text": [
      "Loading tokenizer from: ./gemma-3-270m-it-local\n",
      "Loading model from: ./gemma-3-270m-it-local\n"
     ]
    }
   ],
   "source": [
    "# --- Step 1: Define the local directory ---\n",
    "# Make sure this path points to where you saved the model\n",
    "local_model_path = \"./gemma-3-270m-it-local\"\n",
    "\n",
    "# --- Step 2: Load the tokenizer and model from the local directory ---\n",
    "print(f\"Loading tokenizer from: {local_model_path}\")\n",
    "tokenizer = AutoTokenizer.from_pretrained(local_model_path)\n",
    "\n",
    "print(f\"Loading model from: {local_model_path}\")\n",
    "model = AutoModelForCausalLM.from_pretrained(local_model_path)"
   ]
  },
  {
   "cell_type": "code",
   "execution_count": 11,
   "id": "d372b71d",
   "metadata": {},
   "outputs": [],
   "source": [
    "def chat_with_model_stream(messages, tokenizer, model, max_new_tokens=4000):\n",
    "    # Prepare inputs\n",
    "    inputs = tokenizer.apply_chat_template(\n",
    "        messages,\n",
    "        add_generation_prompt=True,\n",
    "        tokenize=True,\n",
    "        return_dict=True,\n",
    "        return_tensors=\"pt\",\n",
    "    ).to(model.device)\n",
    "\n",
    "    # Set up streamer for real-time decoding\n",
    "    streamer = TextIteratorStreamer(tokenizer, skip_special_tokens=True)\n",
    "\n",
    "    # Run generation in a background thread so we can stream tokens\n",
    "    generation_kwargs = dict(**inputs, streamer=streamer, max_new_tokens=max_new_tokens)\n",
    "    thread = threading.Thread(target=model.generate, kwargs=generation_kwargs)\n",
    "    thread.start()\n",
    "\n",
    "    # Stream tokens as they are generated\n",
    "    response = \"\"\n",
    "    for new_text in streamer:\n",
    "        print(new_text, end=\"\", flush=True)  # live printing\n",
    "        response += new_text\n",
    "\n",
    "    return response"
   ]
  },
  {
   "cell_type": "code",
   "execution_count": 6,
   "id": "01d7b8a4",
   "metadata": {},
   "outputs": [
    {
     "name": "stderr",
     "output_type": "stream",
     "text": [
      "Setting `pad_token_id` to `eos_token_id`:1 for open-end generation.\n"
     ]
    },
    {
     "name": "stdout",
     "output_type": "stream",
     "text": [
      "user\n",
      "Who are you?\n",
      "model\n"
     ]
    },
    {
     "name": "stdout",
     "output_type": "stream",
     "text": [
      "I am Gemma, an open-weights AI assistant. I am a large language model created by the Gemma team.\n"
     ]
    }
   ],
   "source": [
    "# Example usage\n",
    "messages = [{\"role\": \"user\", \"content\": \"Who are you?\"}]\n",
    "result = chat_with_model_stream(messages, tokenizer, model)\n"
   ]
  },
  {
   "cell_type": "code",
   "execution_count": 12,
   "id": "c78090dc",
   "metadata": {},
   "outputs": [
    {
     "name": "stderr",
     "output_type": "stream",
     "text": [
      "Setting `pad_token_id` to `eos_token_id`:1 for open-end generation.\n"
     ]
    },
    {
     "name": "stdout",
     "output_type": "stream",
     "text": [
      "user\n",
      "what do you know about algeria ?\n",
      "model\n",
      "Algeria is a fascinating country with a rich history, culture, and modern landscape. Here's a summary of what I know about it:\n",
      "\n",
      "*   **Geography:** Algeria is a large country, with significant geographical features, including the Sahara Desert, the Moroccan Highlands, and the Rif Mountains.\n",
      "*   **History:** Algeria has a long and complex history, with its origins as a kingdom under various empires. Its history is marked by conquests, wars, and political developments.\n",
      "*   **Culture:** Algeria is known for its diverse culture, including Arabic language, music, art, and cuisine.\n",
      "*   **Economy:** Algeria is a major exporter of oil and gas, with a growing focus on renewable energy and sustainable development.\n",
      "*   **Politics:** Algeria is a parliamentary republic with a significant degree of political autonomy.\n",
      "\n",
      "To give you a more specific answer, I need more information about your interests. For example, are you interested in:\n",
      "\n",
      "*   **History?**\n",
      "*   **Geography?**\n",
      "*   **Culture?**\n",
      "*   **Economy?**\n",
      "*   **Politics?**\n",
      "*   **Specific regions?**\n",
      "\n",
      "Tell me what you'd like to know, and I'll do my best to provide you with information about Algeria."
     ]
    },
    {
     "data": {
      "text/plain": [
       "\"user\\nwhat do you know about algeria ?\\nmodel\\nAlgeria is a fascinating country with a rich history, culture, and modern landscape. Here's a summary of what I know about it:\\n\\n*   **Geography:** Algeria is a large country, with significant geographical features, including the Sahara Desert, the Moroccan Highlands, and the Rif Mountains.\\n*   **History:** Algeria has a long and complex history, with its origins as a kingdom under various empires. Its history is marked by conquests, wars, and political developments.\\n*   **Culture:** Algeria is known for its diverse culture, including Arabic language, music, art, and cuisine.\\n*   **Economy:** Algeria is a major exporter of oil and gas, with a growing focus on renewable energy and sustainable development.\\n*   **Politics:** Algeria is a parliamentary republic with a significant degree of political autonomy.\\n\\nTo give you a more specific answer, I need more information about your interests. For example, are you interested in:\\n\\n*   **History?**\\n*   **Geography?**\\n*   **Culture?**\\n*   **Economy?**\\n*   **Politics?**\\n*   **Specific regions?**\\n\\nTell me what you'd like to know, and I'll do my best to provide you with information about Algeria.\""
      ]
     },
     "execution_count": 12,
     "metadata": {},
     "output_type": "execute_result"
    }
   ],
   "source": [
    "# Example usage\n",
    "messages = [{\"role\": \"user\", \"content\": \"what do you know about algeria ?\"}]\n",
    "chat_with_model_stream(messages, tokenizer, model)\n"
   ]
  },
  {
   "cell_type": "code",
   "execution_count": 37,
   "id": "17c25b7e",
   "metadata": {},
   "outputs": [],
   "source": [
    "import requests\n",
    "\n",
    "BASE_URL = \"http://127.0.0.1:5000\"\n",
    "\n",
    "def stream_generate(prompt):\n",
    "    response = requests.post(f\"{BASE_URL}/generate-stream\", json={\"prompt\": prompt}, stream=True)\n",
    "    if response.status_code == 200:\n",
    "        for chunk in response.iter_content(chunk_size=1, decode_unicode=True):\n",
    "            if chunk: print(chunk, end='', flush=True)\n",
    "\n",
    "def stop_generation():\n",
    "    return requests.post(f\"{BASE_URL}/stop-generation\").json()\n",
    "\n",
    "def check_status():\n",
    "    return requests.get(f\"{BASE_URL}/generation-status\").json()"
   ]
  },
  {
   "cell_type": "code",
   "execution_count": 39,
   "id": "3e7b1890",
   "metadata": {},
   "outputs": [
    {
     "name": "stdout",
     "output_type": "stream",
     "text": [
      "user\n",
      "What is Algeria , be more specific?\n",
      "model\n",
      "Algeria is a large and diverse country with a rich history, culture, and a vibrant economy. It's known for its rich natural resources, including oil, gas, minerals, and diverse agricultural products. Algeria is also a significant player in the global energy market and a major economic power in the region.\n"
     ]
    }
   ],
   "source": [
    "stream_generate(\"What is Algeria , be more specific?\")"
   ]
  },
  {
   "cell_type": "code",
   "execution_count": null,
   "id": "a85d4d88",
   "metadata": {},
   "outputs": [],
   "source": []
  }
 ],
 "metadata": {
  "kernelspec": {
   "display_name": "Python 3",
   "language": "python",
   "name": "python3"
  },
  "language_info": {
   "codemirror_mode": {
    "name": "ipython",
    "version": 3
   },
   "file_extension": ".py",
   "mimetype": "text/x-python",
   "name": "python",
   "nbconvert_exporter": "python",
   "pygments_lexer": "ipython3",
   "version": "3.12.3"
  }
 },
 "nbformat": 4,
 "nbformat_minor": 5
}
